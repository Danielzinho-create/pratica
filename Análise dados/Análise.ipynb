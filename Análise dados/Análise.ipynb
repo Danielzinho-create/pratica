{
 "cells": [
  {
   "cell_type": "code",
   "execution_count": 3,
   "id": "87e3a82e",
   "metadata": {},
   "outputs": [],
   "source": [
    "import pandas as pd #Importa a biblioteca Pandas"
   ]
  },
  {
   "cell_type": "code",
   "execution_count": 4,
   "id": "a418554a",
   "metadata": {},
   "outputs": [],
   "source": [
    "dados = pd.read_json(\"/home/daniel/DataspellProjects/dsProject/dados_compra.json\") #Importa os dados"
   ]
  },
  {
   "cell_type": "markdown",
   "id": "be40c3bb",
   "metadata": {},
   "source": [
    "<h2><ol>Contagem de Consumidores</ol></h2>\n",
    "\n"
   ]
  },
  {
   "cell_type": "code",
   "execution_count": 3,
   "id": "ed4e59fa",
   "metadata": {},
   "outputs": [
    {
     "name": "stdout",
     "output_type": "stream",
     "text": [
      "Existem um total de 780 consumidores cadastrados\n"
     ]
    }
   ],
   "source": [
    "print(f'Existem um total de {dados.Login.count()} consumidores cadastrados') #Mostra o total de consumidores"
   ]
  },
  {
   "cell_type": "markdown",
   "id": "27a4541d",
   "metadata": {},
   "source": [
    "<h2> Número total de consumidores </h2>\n",
    "    <h3><li> Análise Geral de Compras </li></h3>"
   ]
  },
  {
   "cell_type": "code",
   "execution_count": 4,
   "id": "97a3033e",
   "metadata": {
    "scrolled": true
   },
   "outputs": [
    {
     "data": {
      "text/html": [
       "<div>\n",
       "<style scoped>\n",
       "    .dataframe tbody tr th:only-of-type {\n",
       "        vertical-align: middle;\n",
       "    }\n",
       "\n",
       "    .dataframe tbody tr th {\n",
       "        vertical-align: top;\n",
       "    }\n",
       "\n",
       "    .dataframe thead th {\n",
       "        text-align: right;\n",
       "    }\n",
       "</style>\n",
       "<table border=\"1\" class=\"dataframe\">\n",
       "  <thead>\n",
       "    <tr style=\"text-align: right;\">\n",
       "      <th></th>\n",
       "      <th>Login</th>\n",
       "      <th>Idade</th>\n",
       "      <th>Sexo</th>\n",
       "      <th>Item ID</th>\n",
       "      <th>Nome do Item</th>\n",
       "      <th>Valor</th>\n",
       "    </tr>\n",
       "  </thead>\n",
       "  <tbody>\n",
       "    <tr>\n",
       "      <th>0</th>\n",
       "      <td>Aelalis34</td>\n",
       "      <td>38</td>\n",
       "      <td>Masculino</td>\n",
       "      <td>165</td>\n",
       "      <td>Bone Crushing Silver Skewer</td>\n",
       "      <td>3.37</td>\n",
       "    </tr>\n",
       "    <tr>\n",
       "      <th>1</th>\n",
       "      <td>Eolo46</td>\n",
       "      <td>21</td>\n",
       "      <td>Masculino</td>\n",
       "      <td>119</td>\n",
       "      <td>Stormbringer, Dark Blade of Ending Misery</td>\n",
       "      <td>2.32</td>\n",
       "    </tr>\n",
       "    <tr>\n",
       "      <th>2</th>\n",
       "      <td>Assastnya25</td>\n",
       "      <td>34</td>\n",
       "      <td>Masculino</td>\n",
       "      <td>174</td>\n",
       "      <td>Primitive Blade</td>\n",
       "      <td>2.46</td>\n",
       "    </tr>\n",
       "    <tr>\n",
       "      <th>3</th>\n",
       "      <td>Pheusrical25</td>\n",
       "      <td>21</td>\n",
       "      <td>Masculino</td>\n",
       "      <td>92</td>\n",
       "      <td>Final Critic</td>\n",
       "      <td>1.36</td>\n",
       "    </tr>\n",
       "    <tr>\n",
       "      <th>4</th>\n",
       "      <td>Aela59</td>\n",
       "      <td>23</td>\n",
       "      <td>Masculino</td>\n",
       "      <td>63</td>\n",
       "      <td>Stormfury Mace</td>\n",
       "      <td>1.27</td>\n",
       "    </tr>\n",
       "    <tr>\n",
       "      <th>...</th>\n",
       "      <td>...</td>\n",
       "      <td>...</td>\n",
       "      <td>...</td>\n",
       "      <td>...</td>\n",
       "      <td>...</td>\n",
       "      <td>...</td>\n",
       "    </tr>\n",
       "    <tr>\n",
       "      <th>775</th>\n",
       "      <td>Eural50</td>\n",
       "      <td>22</td>\n",
       "      <td>Masculino</td>\n",
       "      <td>98</td>\n",
       "      <td>Deadline, Voice Of Subtlety</td>\n",
       "      <td>3.62</td>\n",
       "    </tr>\n",
       "    <tr>\n",
       "      <th>776</th>\n",
       "      <td>Lirtossa78</td>\n",
       "      <td>14</td>\n",
       "      <td>Masculino</td>\n",
       "      <td>104</td>\n",
       "      <td>Gladiator's Glaive</td>\n",
       "      <td>1.36</td>\n",
       "    </tr>\n",
       "    <tr>\n",
       "      <th>777</th>\n",
       "      <td>Tillyrin30</td>\n",
       "      <td>20</td>\n",
       "      <td>Masculino</td>\n",
       "      <td>117</td>\n",
       "      <td>Heartstriker, Legacy of the Light</td>\n",
       "      <td>4.15</td>\n",
       "    </tr>\n",
       "    <tr>\n",
       "      <th>778</th>\n",
       "      <td>Quelaton80</td>\n",
       "      <td>20</td>\n",
       "      <td>Masculino</td>\n",
       "      <td>75</td>\n",
       "      <td>Brutality Ivory Warmace</td>\n",
       "      <td>1.72</td>\n",
       "    </tr>\n",
       "    <tr>\n",
       "      <th>779</th>\n",
       "      <td>Alim85</td>\n",
       "      <td>23</td>\n",
       "      <td>Feminino</td>\n",
       "      <td>107</td>\n",
       "      <td>Splitter, Foe Of Subtlety</td>\n",
       "      <td>3.61</td>\n",
       "    </tr>\n",
       "  </tbody>\n",
       "</table>\n",
       "<p>780 rows × 6 columns</p>\n",
       "</div>"
      ],
      "text/plain": [
       "            Login  Idade       Sexo  Item ID  \\\n",
       "0       Aelalis34     38  Masculino      165   \n",
       "1          Eolo46     21  Masculino      119   \n",
       "2     Assastnya25     34  Masculino      174   \n",
       "3    Pheusrical25     21  Masculino       92   \n",
       "4          Aela59     23  Masculino       63   \n",
       "..            ...    ...        ...      ...   \n",
       "775       Eural50     22  Masculino       98   \n",
       "776    Lirtossa78     14  Masculino      104   \n",
       "777    Tillyrin30     20  Masculino      117   \n",
       "778    Quelaton80     20  Masculino       75   \n",
       "779        Alim85     23   Feminino      107   \n",
       "\n",
       "                                  Nome do Item  Valor  \n",
       "0                  Bone Crushing Silver Skewer   3.37  \n",
       "1    Stormbringer, Dark Blade of Ending Misery   2.32  \n",
       "2                              Primitive Blade   2.46  \n",
       "3                                 Final Critic   1.36  \n",
       "4                               Stormfury Mace   1.27  \n",
       "..                                         ...    ...  \n",
       "775                Deadline, Voice Of Subtlety   3.62  \n",
       "776                         Gladiator's Glaive   1.36  \n",
       "777          Heartstriker, Legacy of the Light   4.15  \n",
       "778                    Brutality Ivory Warmace   1.72  \n",
       "779                  Splitter, Foe Of Subtlety   3.61  \n",
       "\n",
       "[780 rows x 6 columns]"
      ]
     },
     "execution_count": 4,
     "metadata": {},
     "output_type": "execute_result"
    }
   ],
   "source": [
    "dados #Mostra uma visão geral dos dados"
   ]
  },
  {
   "cell_type": "markdown",
   "id": "5cc15bd4",
   "metadata": {},
   "source": [
    "<h2>Número de itens exclusivos</h2>\n",
    "<h3><li>Preço médio de compra</li></h3>\n"
   ]
  },
  {
   "cell_type": "code",
   "execution_count": 5,
   "id": "6c0e0d89",
   "metadata": {},
   "outputs": [
    {
     "name": "stdout",
     "output_type": "stream",
     "text": [
      "O preço médio das compras é de 2.93\n"
     ]
    }
   ],
   "source": [
    "media = round(dados.Valor.mean(), 2) #Armazena na variável a média arredondada da coluna 'Valor' do DataFrame 'dados'\n",
    "print(f'O preço médio das compras é de {media}') #Mostra a média "
   ]
  },
  {
   "cell_type": "markdown",
   "id": "d5f8b3bb",
   "metadata": {},
   "source": [
    "<h3><li>Número total de compras</li></h3>\n"
   ]
  },
  {
   "cell_type": "code",
   "execution_count": 6,
   "id": "4b6e169e",
   "metadata": {},
   "outputs": [
    {
     "name": "stdout",
     "output_type": "stream",
     "text": [
      "Foram realizadas 780 compras\n"
     ]
    }
   ],
   "source": [
    "print(f'Foram realizadas {dados.shape[0]} compras') #Conta o número do registros no DataFrame 'dados'"
   ]
  },
  {
   "cell_type": "markdown",
   "id": "72e42f49",
   "metadata": {},
   "source": [
    "<h3><li>Rendimento total</li></h3>"
   ]
  },
  {
   "cell_type": "code",
   "execution_count": 7,
   "id": "d014316d",
   "metadata": {},
   "outputs": [
    {
     "name": "stdout",
     "output_type": "stream",
     "text": [
      "Tivemos um rendimento de 2286.33 reais\n"
     ]
    }
   ],
   "source": [
    "print(f'Tivemos um rendimento de {dados.Valor.sum()} reais') #Soma e mostra os valores da coluna 'Valor' do DataFrame 'dados'"
   ]
  },
  {
   "cell_type": "markdown",
   "id": "c3b80284",
   "metadata": {},
   "source": [
    "\n",
    "<h2>Informações Demográficas Por Gênero</h2>\n",
    "<h3><li>Porcentagem e contagem de compradores masculinos</li></h3>\n"
   ]
  },
  {
   "cell_type": "code",
   "execution_count": 43,
   "id": "b4f1f8f3",
   "metadata": {},
   "outputs": [
    {
     "name": "stdout",
     "output_type": "stream",
     "text": [
      "Existem 633 compradores do sexo masculino, representando 81.15% do total de consumidores.\n"
     ]
    }
   ],
   "source": [
    "dados_gen = dados['Sexo'].value_counts() # Armazena a quantidade de compras por sexo na variável\n",
    "total_masc = dados_gen['Masculino'] # Armazena a quantidade de compras do sexo 'Masculino' na variável\n",
    "print(f'Existem {total_masc} compradores do sexo masculino, representando {round((total_masc * 100) / dados.shape[0], 2)}% do total de consumidores.' ) # Mostra a quantidade de compras do sexo masculino juntamente com sua porcentagem em relação ao valor total de compras"
   ]
  },
  {
   "cell_type": "markdown",
   "id": "76045b8c",
   "metadata": {},
   "source": [
    "<h3><li>Porcentagem e contagem de compradores do sexo feminino</li></h3>\n"
   ]
  },
  {
   "cell_type": "code",
   "execution_count": 48,
   "id": "9222e8b7",
   "metadata": {},
   "outputs": [
    {
     "name": "stdout",
     "output_type": "stream",
     "text": [
      "Existem 136 compradores do sexo feminino, representando 17.44% do total de consumidores.\n"
     ]
    }
   ],
   "source": [
    "total_fem = dados_gen['Feminino'] # Armazena a quantidade de compras do sexo 'Feminino' na variável\n",
    "print(f'Existem {total_fem} compradores do sexo feminino, representando {round((total_fem * 100) / dados.shape[0], 2)}% do total de consumidores.' ) # Mostra a quantidade de compras do sexo feminino juntamente com sua porcentagem em relação ao valor total de compras"
   ]
  },
  {
   "cell_type": "markdown",
   "id": "a2add5e2",
   "metadata": {},
   "source": [
    "<h3><li>Porcentagem e contagem de outros / não divulgados</li></h3>\n"
   ]
  },
  {
   "cell_type": "code",
   "execution_count": 57,
   "id": "4e0aa604",
   "metadata": {},
   "outputs": [
    {
     "name": "stdout",
     "output_type": "stream",
     "text": [
      "Existem 11 compradores que não se identificam como homem ou mulher ou que não optaram por revelar o gênero, representando 1.41% do total de consumidores.\n"
     ]
    }
   ],
   "source": [
    "total_outros = dados_gen['Outro / Não Divulgado'] # Armazena a quantidade de compras do sexo 'Outros' na variável\n",
    "print(f'Existem {total_outros} compradores que não se identificam como homem ou mulher ou que não optaram por revelar o gênero, representando {round((total_outros * 100) / dados.shape[0], 2)}% do total de consumidores.' ) # Mostra a quantidade de compras de pessoas com sexo não identificado juntamente com sua porcentagem em relação ao valor total de compras"
   ]
  },
  {
   "cell_type": "markdown",
   "id": "cf8bc1ec",
   "metadata": {},
   "source": [
    "\n",
    "<h2>Análise de Compras Por Gênero</h2>\n",
    "<h3><li>Número de compras</li></h3>\n"
   ]
  },
  {
   "cell_type": "code",
   "execution_count": 87,
   "id": "7d070fab",
   "metadata": {
    "scrolled": true
   },
   "outputs": [
    {
     "data": {
      "text/plain": [
       "Sexo\n",
       "Feminino                 136\n",
       "Masculino                633\n",
       "Outro / Não Divulgado     11\n",
       "Name: Login, dtype: int64"
      ]
     },
     "execution_count": 87,
     "metadata": {},
     "output_type": "execute_result"
    }
   ],
   "source": [
    "dados.groupby('Sexo')['Login'].count() # Mostra o número de compras realizadas por gênero "
   ]
  },
  {
   "cell_type": "markdown",
   "id": "0eb0f1dc",
   "metadata": {},
   "source": [
    "<h3><li>Preço médio de compra</li></h3>\n"
   ]
  },
  {
   "cell_type": "code",
   "execution_count": 84,
   "id": "0be59624",
   "metadata": {
    "scrolled": true
   },
   "outputs": [
    {
     "data": {
      "text/plain": [
       "Sexo\n",
       "Feminino                 2.82\n",
       "Masculino                2.95\n",
       "Outro / Não Divulgado    3.25\n",
       "Name: Valor, dtype: float64"
      ]
     },
     "execution_count": 84,
     "metadata": {},
     "output_type": "execute_result"
    }
   ],
   "source": [
    "round(dados.groupby('Sexo')['Valor'].mean(), 2) #Mostra a média arredondada por compra realizada por cada gênero"
   ]
  },
  {
   "cell_type": "markdown",
   "id": "e8fe0a91",
   "metadata": {},
   "source": [
    "<h3><li> Valor Total de Compra</li></h3> \n"
   ]
  },
  {
   "cell_type": "code",
   "execution_count": 117,
   "id": "c3692847",
   "metadata": {},
   "outputs": [
    {
     "data": {
      "text/plain": [
       "Sexo\n",
       "Feminino                  382.91\n",
       "Masculino                1867.68\n",
       "Outro / Não Divulgado      35.74\n",
       "Name: Valor, dtype: float64"
      ]
     },
     "execution_count": 117,
     "metadata": {},
     "output_type": "execute_result"
    }
   ],
   "source": [
    "dados.groupby('Sexo')['Valor'].sum() #Mostra a soma total dos valores gastos por gênero"
   ]
  },
  {
   "cell_type": "markdown",
   "id": "aec6adea",
   "metadata": {},
   "source": [
    "<h2>Compras for faixa etária<h2>"
   ]
  },
  {
   "cell_type": "code",
   "execution_count": 114,
   "id": "0cfe88d5",
   "metadata": {
    "scrolled": true
   },
   "outputs": [
    {
     "name": "stdout",
     "output_type": "stream",
     "text": [
      "Foram realizadas 32 compras entre pessoas com 1 a 10 anos\n",
      "Foram realizadas 142 compras entre pessoas com 11 a 18 anos\n",
      "Foram realizadas 606 compras entre pessoas com 19 a 60 anos\n",
      "Foram realizadas 0 compras entre pessoas com mais de 60 anos\n"
     ]
    }
   ],
   "source": [
    "compras_Faixa_Idade1 = dados.query('Idade > 1 and Idade <= 10').shape[0] # Armazena na variável a quatidade de compras realizadas por pessoas entre 1 e 10 anos\n",
    "print(f'Foram realizadas {compras_Faixa_Idade1} compras entre pessoas com 1 a 10 anos') # Mostra os dados\n",
    "compras_Faixa_Idade2 = dados.query('Idade > 10 and Idade <= 18').shape[0]  #Armazena na variável a quatidade de compras realizadas por pessoas entre 11 e 18 anos\n",
    "print(f'Foram realizadas {compras_Faixa_Idade2} compras entre pessoas com 11 a 18 anos') # Mostra os dados\n",
    "compras_Faixa_Idade3 = dados.query('Idade > 18 and Idade <= 60').shape[0] # Armazena na variável a quatidade de compras realizadas por pessoas entre 1 e 10 anos\n",
    "print(f'Foram realizadas {compras_Faixa_Idade3} compras entre pessoas com 19 a 60 anos') # Mostra os dados\n",
    "compras_Faixa_Idade4 = dados.query('Idade > 60').shape[0] #Armazena na variável a quatidade de compras realizadas por pessoas com mais de 60 anos\n",
    "print(f'Foram realizadas {compras_Faixa_Idade4} compras entre pessoas com mais de 60 anos') # Mostra os dados"
   ]
  },
  {
   "cell_type": "markdown",
   "id": "5476b5b6",
   "metadata": {},
   "source": [
    "<h3>Identifique os 5 principais compradores pelo valor total de compra e, em seguida, liste (em uma tabela):</h3>\n",
    "<li>Login</li>\n",
    "<li>Número de compras</li>\n",
    "<li>Preço médio de compra</li>\n",
    "<li>Valor Total de Compra</li>"
   ]
  },
  {
   "cell_type": "code",
   "execution_count": 156,
   "id": "35fb0dee",
   "metadata": {
    "scrolled": true
   },
   "outputs": [
    {
     "data": {
      "text/plain": [
       "Login\n",
       "Undirrala66    17.06\n",
       "Saedue76       13.56\n",
       "Mindimnya67    12.74\n",
       "Haellysu29     12.73\n",
       "Eoda93         11.58\n",
       "Name: Valor, dtype: float64"
      ]
     },
     "execution_count": 156,
     "metadata": {},
     "output_type": "execute_result"
    }
   ],
   "source": [
    "dados_Compradores = dados.groupby('Login')['Valor'].sum() #Agrupa os Logins de acordo com o valor total que gastaram\n",
    "dados_Compradores.nlargest(5) #Busca os 5 Logins que mais gastaram"
   ]
  },
  {
   "cell_type": "code",
   "execution_count": null,
   "id": "2b94b015",
   "metadata": {},
   "outputs": [],
   "source": [
    "dados.query('Login == \"Login acima\"').shape[0] #Busca o número de registros do Login inserido"
   ]
  },
  {
   "cell_type": "code",
   "execution_count": null,
   "id": "bd4f6d57",
   "metadata": {
    "scrolled": true
   },
   "outputs": [],
   "source": [
    "round(dados.query('Login == \"Login acima\"').Valor.mean(), 2) # Busca a média do valor gasto por cada Login inserido"
   ]
  },
  {
   "cell_type": "code",
   "execution_count": 201,
   "id": "4617b8b1",
   "metadata": {},
   "outputs": [],
   "source": [
    "dicionario = {'Login' : ['Undirrala66', 'Saedue76', 'Mindimnya67', 'Haellysu29', 'Eoda93'], 'Num Compras': [5, 4, 4, 3, 3], 'Preço Médio compra': [3.41, 3.39, 3.18, 4.24, 3.86], 'Valor Total de Compra': [17.06, 13.56, 12.74, 12.73, 11.58]} # Cria um dicionário"
   ]
  },
  {
   "cell_type": "code",
   "execution_count": 202,
   "id": "702d9947",
   "metadata": {},
   "outputs": [],
   "source": [
    "dados_Principais_Comp = pd.DataFrame(data = dicionario) # Transforma o dicionário em um DataFrame"
   ]
  },
  {
   "cell_type": "code",
   "execution_count": 203,
   "id": "dba6b156",
   "metadata": {},
   "outputs": [
    {
     "data": {
      "text/html": [
       "<div>\n",
       "<style scoped>\n",
       "    .dataframe tbody tr th:only-of-type {\n",
       "        vertical-align: middle;\n",
       "    }\n",
       "\n",
       "    .dataframe tbody tr th {\n",
       "        vertical-align: top;\n",
       "    }\n",
       "\n",
       "    .dataframe thead th {\n",
       "        text-align: right;\n",
       "    }\n",
       "</style>\n",
       "<table border=\"1\" class=\"dataframe\">\n",
       "  <thead>\n",
       "    <tr style=\"text-align: right;\">\n",
       "      <th></th>\n",
       "      <th>Login</th>\n",
       "      <th>Num Compras</th>\n",
       "      <th>Preço Médio compra</th>\n",
       "      <th>Valor Total de Compra</th>\n",
       "    </tr>\n",
       "  </thead>\n",
       "  <tbody>\n",
       "    <tr>\n",
       "      <th>0</th>\n",
       "      <td>Undirrala66</td>\n",
       "      <td>5</td>\n",
       "      <td>3.41</td>\n",
       "      <td>17.06</td>\n",
       "    </tr>\n",
       "    <tr>\n",
       "      <th>1</th>\n",
       "      <td>Saedue76</td>\n",
       "      <td>4</td>\n",
       "      <td>3.39</td>\n",
       "      <td>13.56</td>\n",
       "    </tr>\n",
       "    <tr>\n",
       "      <th>2</th>\n",
       "      <td>Mindimnya67</td>\n",
       "      <td>4</td>\n",
       "      <td>3.18</td>\n",
       "      <td>12.74</td>\n",
       "    </tr>\n",
       "    <tr>\n",
       "      <th>3</th>\n",
       "      <td>Haellysu29</td>\n",
       "      <td>3</td>\n",
       "      <td>4.24</td>\n",
       "      <td>12.73</td>\n",
       "    </tr>\n",
       "    <tr>\n",
       "      <th>4</th>\n",
       "      <td>Eoda93</td>\n",
       "      <td>3</td>\n",
       "      <td>3.86</td>\n",
       "      <td>11.58</td>\n",
       "    </tr>\n",
       "  </tbody>\n",
       "</table>\n",
       "</div>"
      ],
      "text/plain": [
       "         Login  Num Compras  Preço Médio compra  Valor Total de Compra\n",
       "0  Undirrala66            5                3.41                  17.06\n",
       "1     Saedue76            4                3.39                  13.56\n",
       "2  Mindimnya67            4                3.18                  12.74\n",
       "3   Haellysu29            3                4.24                  12.73\n",
       "4       Eoda93            3                3.86                  11.58"
      ]
     },
     "execution_count": 203,
     "metadata": {},
     "output_type": "execute_result"
    }
   ],
   "source": [
    "dados_Principais_Comp # Mostra o DataFrame"
   ]
  },
  {
   "cell_type": "markdown",
   "id": "2a32aaa4",
   "metadata": {},
   "source": [
    "<h3>Identifique os 5 itens mais populares por contagem de compras e, em seguida, liste (em uma tabela): </h3>\n",
    "<li>ID do item</li>\n",
    "<li>Nome do item</li>\n",
    "<li>Número de compras</li>\n",
    "<li>Preço do item</li>\n",
    "<li>Valor Total de Compra</li>"
   ]
  },
  {
   "cell_type": "code",
   "execution_count": 36,
   "id": "301f407e",
   "metadata": {},
   "outputs": [],
   "source": [
    "dados.rename(columns={'Nome do Item': 'Item'}, inplace = True) # Renomeia a coluna Nome do Item para Item"
   ]
  },
  {
   "cell_type": "code",
   "execution_count": 37,
   "id": "ec1eacca",
   "metadata": {},
   "outputs": [],
   "source": [
    "dados.rename(columns={'Item ID': 'ID'}, inplace = True) # Renomeia a coluna Item ID para ID"
   ]
  },
  {
   "cell_type": "code",
   "execution_count": 42,
   "id": "96b6a6b0",
   "metadata": {},
   "outputs": [
    {
     "data": {
      "text/plain": [
       "ID\n",
       "39    11\n",
       "84    11\n",
       "13     9\n",
       "31     9\n",
       "34     9\n",
       "Name: Valor, dtype: int64"
      ]
     },
     "execution_count": 42,
     "metadata": {},
     "output_type": "execute_result"
    }
   ],
   "source": [
    "dadosItens = dados.groupby('ID')['Valor'].count() # Agrupa os itens pelo ID de acordo com o numero de vezes que eles aparecem \n",
    "dadosItens.nlargest(5) #Busca e mostra os 5 ID's que mais apareceram"
   ]
  },
  {
   "cell_type": "code",
   "execution_count": 68,
   "id": "c6a7d54b",
   "metadata": {},
   "outputs": [
    {
     "data": {
      "text/html": [
       "<div>\n",
       "<style scoped>\n",
       "    .dataframe tbody tr th:only-of-type {\n",
       "        vertical-align: middle;\n",
       "    }\n",
       "\n",
       "    .dataframe tbody tr th {\n",
       "        vertical-align: top;\n",
       "    }\n",
       "\n",
       "    .dataframe thead th {\n",
       "        text-align: right;\n",
       "    }\n",
       "</style>\n",
       "<table border=\"1\" class=\"dataframe\">\n",
       "  <thead>\n",
       "    <tr style=\"text-align: right;\">\n",
       "      <th></th>\n",
       "      <th>Login</th>\n",
       "      <th>Idade</th>\n",
       "      <th>Sexo</th>\n",
       "      <th>ID</th>\n",
       "      <th>Item</th>\n",
       "      <th>Valor</th>\n",
       "    </tr>\n",
       "  </thead>\n",
       "  <tbody>\n",
       "    <tr>\n",
       "      <th>57</th>\n",
       "      <td>Alallo58</td>\n",
       "      <td>24</td>\n",
       "      <td>Masculino</td>\n",
       "      <td>34</td>\n",
       "      <td>Retribution Axe</td>\n",
       "      <td>4.14</td>\n",
       "    </tr>\n",
       "    <tr>\n",
       "      <th>126</th>\n",
       "      <td>Raesty92</td>\n",
       "      <td>25</td>\n",
       "      <td>Masculino</td>\n",
       "      <td>34</td>\n",
       "      <td>Retribution Axe</td>\n",
       "      <td>4.14</td>\n",
       "    </tr>\n",
       "    <tr>\n",
       "      <th>175</th>\n",
       "      <td>Raillydeu47</td>\n",
       "      <td>35</td>\n",
       "      <td>Masculino</td>\n",
       "      <td>34</td>\n",
       "      <td>Retribution Axe</td>\n",
       "      <td>4.14</td>\n",
       "    </tr>\n",
       "    <tr>\n",
       "      <th>380</th>\n",
       "      <td>Alaephos75</td>\n",
       "      <td>22</td>\n",
       "      <td>Masculino</td>\n",
       "      <td>34</td>\n",
       "      <td>Retribution Axe</td>\n",
       "      <td>4.14</td>\n",
       "    </tr>\n",
       "    <tr>\n",
       "      <th>389</th>\n",
       "      <td>Iskistasda86</td>\n",
       "      <td>37</td>\n",
       "      <td>Masculino</td>\n",
       "      <td>34</td>\n",
       "      <td>Retribution Axe</td>\n",
       "      <td>4.14</td>\n",
       "    </tr>\n",
       "    <tr>\n",
       "      <th>413</th>\n",
       "      <td>Sondadar26</td>\n",
       "      <td>24</td>\n",
       "      <td>Masculino</td>\n",
       "      <td>34</td>\n",
       "      <td>Retribution Axe</td>\n",
       "      <td>4.14</td>\n",
       "    </tr>\n",
       "    <tr>\n",
       "      <th>442</th>\n",
       "      <td>Liri91</td>\n",
       "      <td>7</td>\n",
       "      <td>Masculino</td>\n",
       "      <td>34</td>\n",
       "      <td>Retribution Axe</td>\n",
       "      <td>4.14</td>\n",
       "    </tr>\n",
       "    <tr>\n",
       "      <th>448</th>\n",
       "      <td>Sausosia74</td>\n",
       "      <td>25</td>\n",
       "      <td>Masculino</td>\n",
       "      <td>34</td>\n",
       "      <td>Retribution Axe</td>\n",
       "      <td>4.14</td>\n",
       "    </tr>\n",
       "    <tr>\n",
       "      <th>746</th>\n",
       "      <td>Ralasti48</td>\n",
       "      <td>35</td>\n",
       "      <td>Masculino</td>\n",
       "      <td>34</td>\n",
       "      <td>Retribution Axe</td>\n",
       "      <td>4.14</td>\n",
       "    </tr>\n",
       "  </tbody>\n",
       "</table>\n",
       "</div>"
      ],
      "text/plain": [
       "            Login  Idade       Sexo  ID             Item  Valor\n",
       "57       Alallo58     24  Masculino  34  Retribution Axe   4.14\n",
       "126      Raesty92     25  Masculino  34  Retribution Axe   4.14\n",
       "175   Raillydeu47     35  Masculino  34  Retribution Axe   4.14\n",
       "380    Alaephos75     22  Masculino  34  Retribution Axe   4.14\n",
       "389  Iskistasda86     37  Masculino  34  Retribution Axe   4.14\n",
       "413    Sondadar26     24  Masculino  34  Retribution Axe   4.14\n",
       "442        Liri91      7  Masculino  34  Retribution Axe   4.14\n",
       "448    Sausosia74     25  Masculino  34  Retribution Axe   4.14\n",
       "746     Ralasti48     35  Masculino  34  Retribution Axe   4.14"
      ]
     },
     "execution_count": 68,
     "metadata": {},
     "output_type": "execute_result"
    }
   ],
   "source": [
    "dados.query('ID == Insira o ID') # Mostra os dados gerais da venda pelo ID inserido"
   ]
  },
  {
   "cell_type": "code",
   "execution_count": 61,
   "id": "829e5593",
   "metadata": {},
   "outputs": [
    {
     "data": {
      "text/plain": [
       "37.26"
      ]
     },
     "execution_count": 61,
     "metadata": {},
     "output_type": "execute_result"
    }
   ],
   "source": [
    "round(dados.query('ID == Insira o ID').sum()['Valor'], 2) # Adquire o valor total rendido do item de acordo com o seu ID "
   ]
  },
  {
   "cell_type": "code",
   "execution_count": 62,
   "id": "0fe9eb28",
   "metadata": {},
   "outputs": [],
   "source": [
    "dicionario2 = {'ID': [39, 84, 13, 31, 34], 'Nome do Item':['Betrayal, Whisper of Grieving Widows', 'Arcane Gem', 'Serenity', 'Trickster', 'Retribution Axe'], 'Num de Compras':[11, 11, 9, 9, 9], 'Preço':[2.35, 2.23, 1.49, 2.07, 4.14], 'Total':[25.85, 24.53, 13.41, 18.63, 37.26]} # Cria um dicionário"
   ]
  },
  {
   "cell_type": "code",
   "execution_count": 63,
   "id": "e36a50ea",
   "metadata": {},
   "outputs": [],
   "source": [
    "dados_Itens_Populares = pd.DataFrame(data = dicionario2) # Transforma o dicionário em um DataFrame"
   ]
  },
  {
   "cell_type": "code",
   "execution_count": 64,
   "id": "5e432265",
   "metadata": {},
   "outputs": [
    {
     "data": {
      "text/html": [
       "<div>\n",
       "<style scoped>\n",
       "    .dataframe tbody tr th:only-of-type {\n",
       "        vertical-align: middle;\n",
       "    }\n",
       "\n",
       "    .dataframe tbody tr th {\n",
       "        vertical-align: top;\n",
       "    }\n",
       "\n",
       "    .dataframe thead th {\n",
       "        text-align: right;\n",
       "    }\n",
       "</style>\n",
       "<table border=\"1\" class=\"dataframe\">\n",
       "  <thead>\n",
       "    <tr style=\"text-align: right;\">\n",
       "      <th></th>\n",
       "      <th>ID</th>\n",
       "      <th>Nome do Item</th>\n",
       "      <th>Num de Compras</th>\n",
       "      <th>Preço</th>\n",
       "      <th>Total</th>\n",
       "    </tr>\n",
       "  </thead>\n",
       "  <tbody>\n",
       "    <tr>\n",
       "      <th>0</th>\n",
       "      <td>39</td>\n",
       "      <td>Betrayal, Whisper of Grieving Widows</td>\n",
       "      <td>11</td>\n",
       "      <td>2.35</td>\n",
       "      <td>25.85</td>\n",
       "    </tr>\n",
       "    <tr>\n",
       "      <th>1</th>\n",
       "      <td>84</td>\n",
       "      <td>Arcane Gem</td>\n",
       "      <td>11</td>\n",
       "      <td>2.23</td>\n",
       "      <td>24.53</td>\n",
       "    </tr>\n",
       "    <tr>\n",
       "      <th>2</th>\n",
       "      <td>13</td>\n",
       "      <td>Serenity</td>\n",
       "      <td>9</td>\n",
       "      <td>1.49</td>\n",
       "      <td>13.41</td>\n",
       "    </tr>\n",
       "    <tr>\n",
       "      <th>3</th>\n",
       "      <td>31</td>\n",
       "      <td>Trickster</td>\n",
       "      <td>9</td>\n",
       "      <td>2.07</td>\n",
       "      <td>18.63</td>\n",
       "    </tr>\n",
       "    <tr>\n",
       "      <th>4</th>\n",
       "      <td>34</td>\n",
       "      <td>Retribution Axe</td>\n",
       "      <td>9</td>\n",
       "      <td>4.14</td>\n",
       "      <td>37.26</td>\n",
       "    </tr>\n",
       "  </tbody>\n",
       "</table>\n",
       "</div>"
      ],
      "text/plain": [
       "   ID                          Nome do Item  Num de Compras  Preço  Total\n",
       "0  39  Betrayal, Whisper of Grieving Widows              11   2.35  25.85\n",
       "1  84                            Arcane Gem              11   2.23  24.53\n",
       "2  13                              Serenity               9   1.49  13.41\n",
       "3  31                             Trickster               9   2.07  18.63\n",
       "4  34                       Retribution Axe               9   4.14  37.26"
      ]
     },
     "execution_count": 64,
     "metadata": {},
     "output_type": "execute_result"
    }
   ],
   "source": [
    "dados_Itens_Populares # Mostra o DataFrame "
   ]
  },
  {
   "cell_type": "markdown",
   "id": "8ab92f00",
   "metadata": {},
   "source": [
    "<h3>Identifique os 5 itens mais lucrativos pelo valor total de compra e, em seguida, liste (em uma tabela):</h3>\n",
    "<li>ID do item</li>\n",
    "<li>Nome do item</li>\n",
    "<li>Número de compras</li>\n",
    "<li>Preço do item</li>\n",
    "<li>Valor Total de Compra</li>\n"
   ]
  },
  {
   "cell_type": "code",
   "execution_count": 66,
   "id": "2739a582",
   "metadata": {},
   "outputs": [
    {
     "data": {
      "text/plain": [
       "ID\n",
       "34     37.26\n",
       "115    29.75\n",
       "32     29.70\n",
       "103    29.22\n",
       "107    28.88\n",
       "Name: Valor, dtype: float64"
      ]
     },
     "execution_count": 66,
     "metadata": {},
     "output_type": "execute_result"
    }
   ],
   "source": [
    "dadosItens = dados.groupby('ID')['Valor'].sum() # Agrupa os itens por ID de acordo com o lucro obtido\n",
    "dadosItens.nlargest(5) # Mostra os 5 ID's de itens que mais geraram lucro"
   ]
  },
  {
   "cell_type": "code",
   "execution_count": 72,
   "id": "06d5f3a9",
   "metadata": {},
   "outputs": [
    {
     "data": {
      "text/html": [
       "<div>\n",
       "<style scoped>\n",
       "    .dataframe tbody tr th:only-of-type {\n",
       "        vertical-align: middle;\n",
       "    }\n",
       "\n",
       "    .dataframe tbody tr th {\n",
       "        vertical-align: top;\n",
       "    }\n",
       "\n",
       "    .dataframe thead th {\n",
       "        text-align: right;\n",
       "    }\n",
       "</style>\n",
       "<table border=\"1\" class=\"dataframe\">\n",
       "  <thead>\n",
       "    <tr style=\"text-align: right;\">\n",
       "      <th></th>\n",
       "      <th>Login</th>\n",
       "      <th>Idade</th>\n",
       "      <th>Sexo</th>\n",
       "      <th>ID</th>\n",
       "      <th>Item</th>\n",
       "      <th>Valor</th>\n",
       "    </tr>\n",
       "  </thead>\n",
       "  <tbody>\n",
       "    <tr>\n",
       "      <th>164</th>\n",
       "      <td>Frichossast75</td>\n",
       "      <td>27</td>\n",
       "      <td>Masculino</td>\n",
       "      <td>107</td>\n",
       "      <td>Splitter, Foe Of Subtlety</td>\n",
       "      <td>3.61</td>\n",
       "    </tr>\n",
       "    <tr>\n",
       "      <th>275</th>\n",
       "      <td>Yadanun74</td>\n",
       "      <td>25</td>\n",
       "      <td>Masculino</td>\n",
       "      <td>107</td>\n",
       "      <td>Splitter, Foe Of Subtlety</td>\n",
       "      <td>3.61</td>\n",
       "    </tr>\n",
       "    <tr>\n",
       "      <th>278</th>\n",
       "      <td>Chanadar44</td>\n",
       "      <td>29</td>\n",
       "      <td>Masculino</td>\n",
       "      <td>107</td>\n",
       "      <td>Splitter, Foe Of Subtlety</td>\n",
       "      <td>3.61</td>\n",
       "    </tr>\n",
       "    <tr>\n",
       "      <th>386</th>\n",
       "      <td>Assithasta65</td>\n",
       "      <td>23</td>\n",
       "      <td>Masculino</td>\n",
       "      <td>107</td>\n",
       "      <td>Splitter, Foe Of Subtlety</td>\n",
       "      <td>3.61</td>\n",
       "    </tr>\n",
       "    <tr>\n",
       "      <th>441</th>\n",
       "      <td>Ilirrasda54</td>\n",
       "      <td>22</td>\n",
       "      <td>Masculino</td>\n",
       "      <td>107</td>\n",
       "      <td>Splitter, Foe Of Subtlety</td>\n",
       "      <td>3.61</td>\n",
       "    </tr>\n",
       "    <tr>\n",
       "      <th>578</th>\n",
       "      <td>Raithe71</td>\n",
       "      <td>25</td>\n",
       "      <td>Masculino</td>\n",
       "      <td>107</td>\n",
       "      <td>Splitter, Foe Of Subtlety</td>\n",
       "      <td>3.61</td>\n",
       "    </tr>\n",
       "    <tr>\n",
       "      <th>676</th>\n",
       "      <td>Aellysup38</td>\n",
       "      <td>25</td>\n",
       "      <td>Masculino</td>\n",
       "      <td>107</td>\n",
       "      <td>Splitter, Foe Of Subtlety</td>\n",
       "      <td>3.61</td>\n",
       "    </tr>\n",
       "    <tr>\n",
       "      <th>779</th>\n",
       "      <td>Alim85</td>\n",
       "      <td>23</td>\n",
       "      <td>Feminino</td>\n",
       "      <td>107</td>\n",
       "      <td>Splitter, Foe Of Subtlety</td>\n",
       "      <td>3.61</td>\n",
       "    </tr>\n",
       "  </tbody>\n",
       "</table>\n",
       "</div>"
      ],
      "text/plain": [
       "             Login  Idade       Sexo   ID                       Item  Valor\n",
       "164  Frichossast75     27  Masculino  107  Splitter, Foe Of Subtlety   3.61\n",
       "275      Yadanun74     25  Masculino  107  Splitter, Foe Of Subtlety   3.61\n",
       "278     Chanadar44     29  Masculino  107  Splitter, Foe Of Subtlety   3.61\n",
       "386   Assithasta65     23  Masculino  107  Splitter, Foe Of Subtlety   3.61\n",
       "441    Ilirrasda54     22  Masculino  107  Splitter, Foe Of Subtlety   3.61\n",
       "578       Raithe71     25  Masculino  107  Splitter, Foe Of Subtlety   3.61\n",
       "676     Aellysup38     25  Masculino  107  Splitter, Foe Of Subtlety   3.61\n",
       "779         Alim85     23   Feminino  107  Splitter, Foe Of Subtlety   3.61"
      ]
     },
     "execution_count": 72,
     "metadata": {},
     "output_type": "execute_result"
    }
   ],
   "source": [
    "dados.query('ID == Insira o ID') # Mostra uma visão geral do item de acordo com o ID inserido"
   ]
  },
  {
   "cell_type": "code",
   "execution_count": 79,
   "id": "e475e167",
   "metadata": {},
   "outputs": [
    {
     "data": {
      "text/plain": [
       "8"
      ]
     },
     "execution_count": 79,
     "metadata": {},
     "output_type": "execute_result"
    }
   ],
   "source": [
    "dados.query('ID == Insira o ID').count()['ID'] # Conta quantos registros o ID inserido obteve"
   ]
  },
  {
   "cell_type": "code",
   "execution_count": 91,
   "id": "7179ec49",
   "metadata": {},
   "outputs": [
    {
     "data": {
      "text/plain": [
       "164    3.61\n",
       "275    3.61\n",
       "278    3.61\n",
       "386    3.61\n",
       "441    3.61\n",
       "578    3.61\n",
       "676    3.61\n",
       "779    3.61\n",
       "Name: Valor, dtype: float64"
      ]
     },
     "execution_count": 91,
     "metadata": {},
     "output_type": "execute_result"
    }
   ],
   "source": [
    "dados.query('ID == 107')['Valor'] # Mostra o Nº de registro no DataFrame junto com o valor do ID inserido"
   ]
  },
  {
   "cell_type": "code",
   "execution_count": 87,
   "id": "bafba8d2",
   "metadata": {},
   "outputs": [
    {
     "data": {
      "text/plain": [
       "37.26"
      ]
     },
     "execution_count": 87,
     "metadata": {},
     "output_type": "execute_result"
    }
   ],
   "source": [
    "dados.query('ID == Insira o ID').sum()['Valor'] #Mostra o lucro total do item do ID inserido "
   ]
  },
  {
   "cell_type": "code",
   "execution_count": 88,
   "id": "a3c89173",
   "metadata": {},
   "outputs": [],
   "source": [
    "dicionario3 = {'ID':[34, 115, 32, 103, 107], 'Nome do Item':['Retribution Axe', 'Spectral Diamond Doomblade', 'Orenmir', 'Singed Scalpel', 'Splitter, Foe Of Subtlety'], 'Num Compras': [9, 7, 6, 6, 8], 'Preço' : [4.14, 4.25, 4.95, 4.87, 3.61], 'Total': [37.26, 29.75, 29.70, 29.22, 28.88]} # Cria um dicionário"
   ]
  },
  {
   "cell_type": "code",
   "execution_count": 89,
   "id": "6b869e63",
   "metadata": {},
   "outputs": [],
   "source": [
    "dados_Itens_Lucro = pd.DataFrame(data = dicionario3) # Transforma o dicionário em um DataFrame"
   ]
  },
  {
   "cell_type": "code",
   "execution_count": 90,
   "id": "358a00ea",
   "metadata": {},
   "outputs": [
    {
     "data": {
      "text/html": [
       "<div>\n",
       "<style scoped>\n",
       "    .dataframe tbody tr th:only-of-type {\n",
       "        vertical-align: middle;\n",
       "    }\n",
       "\n",
       "    .dataframe tbody tr th {\n",
       "        vertical-align: top;\n",
       "    }\n",
       "\n",
       "    .dataframe thead th {\n",
       "        text-align: right;\n",
       "    }\n",
       "</style>\n",
       "<table border=\"1\" class=\"dataframe\">\n",
       "  <thead>\n",
       "    <tr style=\"text-align: right;\">\n",
       "      <th></th>\n",
       "      <th>ID</th>\n",
       "      <th>Nome do Item</th>\n",
       "      <th>Num Compras</th>\n",
       "      <th>Preço</th>\n",
       "      <th>Total</th>\n",
       "    </tr>\n",
       "  </thead>\n",
       "  <tbody>\n",
       "    <tr>\n",
       "      <th>0</th>\n",
       "      <td>34</td>\n",
       "      <td>Retribution Axe</td>\n",
       "      <td>9</td>\n",
       "      <td>4.14</td>\n",
       "      <td>37.26</td>\n",
       "    </tr>\n",
       "    <tr>\n",
       "      <th>1</th>\n",
       "      <td>115</td>\n",
       "      <td>Spectral Diamond Doomblade</td>\n",
       "      <td>7</td>\n",
       "      <td>4.25</td>\n",
       "      <td>29.75</td>\n",
       "    </tr>\n",
       "    <tr>\n",
       "      <th>2</th>\n",
       "      <td>32</td>\n",
       "      <td>Orenmir</td>\n",
       "      <td>6</td>\n",
       "      <td>4.95</td>\n",
       "      <td>29.70</td>\n",
       "    </tr>\n",
       "    <tr>\n",
       "      <th>3</th>\n",
       "      <td>103</td>\n",
       "      <td>Singed Scalpel</td>\n",
       "      <td>6</td>\n",
       "      <td>4.87</td>\n",
       "      <td>29.22</td>\n",
       "    </tr>\n",
       "    <tr>\n",
       "      <th>4</th>\n",
       "      <td>107</td>\n",
       "      <td>Splitter, Foe Of Subtlety</td>\n",
       "      <td>8</td>\n",
       "      <td>3.61</td>\n",
       "      <td>28.88</td>\n",
       "    </tr>\n",
       "  </tbody>\n",
       "</table>\n",
       "</div>"
      ],
      "text/plain": [
       "    ID                Nome do Item  Num Compras  Preço  Total\n",
       "0   34             Retribution Axe            9   4.14  37.26\n",
       "1  115  Spectral Diamond Doomblade            7   4.25  29.75\n",
       "2   32                     Orenmir            6   4.95  29.70\n",
       "3  103              Singed Scalpel            6   4.87  29.22\n",
       "4  107   Splitter, Foe Of Subtlety            8   3.61  28.88"
      ]
     },
     "execution_count": 90,
     "metadata": {},
     "output_type": "execute_result"
    }
   ],
   "source": [
    "dados_Itens_Lucro # Mostra o DataFrame "
   ]
  }
 ],
 "metadata": {
  "kernelspec": {
   "display_name": "Python 3",
   "language": "python",
   "name": "python3"
  },
  "language_info": {
   "codemirror_mode": {
    "name": "ipython",
    "version": 3
   },
   "file_extension": ".py",
   "mimetype": "text/x-python",
   "name": "python",
   "nbconvert_exporter": "python",
   "pygments_lexer": "ipython3",
   "version": "3.8.8"
  }
 },
 "nbformat": 4,
 "nbformat_minor": 5
}
